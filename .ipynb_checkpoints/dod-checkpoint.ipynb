{
 "cells": [
  {
   "cell_type": "code",
   "execution_count": null,
   "metadata": {},
   "outputs": [],
   "source": [
    " import numpy\n",
    "    #test\n",
    "from numpy import *\n",
    "from numpy.linalg import *\n",
    "data = matrix([[10],[9.3],[0],[0],[9.3]])\n",
    "coef = matrix([[1,10,0,0,0],[1,0,5,0,0],[1,0,0,-7,0],[0,-1,-1,1,0],[0,0,0,0,1]])\n",
    "print (coef.I*data)\n",
    "res = solve(coef,data)\n",
    "print (\"hhh\\n\", res)\n",
    "y = 300\n",
    "t2 = 0.5*9.82\n",
    "t2 = y/t2\n",
    "print(t2)\n",
    "t2 = math.sqrt(t2)\n",
    "print(t2)\n",
    "ym = [[300]]\n",
    "tm2 = [[0.5*9.82]]\n",
    "a = solve(tm2,ym) # \n",
    "print(a)\n",
    "a = math.sqrt(a)\n",
    "print(a)"
   ]
  },
  {
   "cell_type": "code",
   "execution_count": null,
   "metadata": {},
   "outputs": [],
   "source": [
    "#DO mm1 JDB\n",
    "from sympy import Symbol\n",
    "from sympy.solvers import solve\n",
    " \n",
    "\n",
    "x = Symbol('x')\n",
    "\n",
    "y = solve(0.5*9.82*x**2 -300,x)\n",
    "print(\"tid = \", y)\n",
    " \n",
    "ekin = 0.5*2.5*( (9.82*y[1])**2)\n",
    "print(\"kin energi = \", ekin)"
   ]
  },
  {
   "cell_type": "code",
   "execution_count": 2,
   "metadata": {},
   "outputs": [
    {
     "name": "stdout",
     "output_type": "stream",
     "text": [
      "2000\n",
      "2000\n"
     ]
    },
    {
     "data": {
      "image/png": "[encoded data removed]",
      "text/plain": [
       "<matplotlib.figure.Figure at 0x7f24def3b710>"
      ]
     },
     "metadata": {},
     "output_type": "display_data"
    }
   ],
   "source": [
    "from pylab import * \n",
    "from matplotlib import *\n",
    "\n",
    "simtime=20\n",
    "\n",
    "def f(t):\n",
    "    if (t <= 2):\n",
    "        h = 300 - 0.5*9.82*(t)**2\n",
    "    else:\n",
    "        h = f(2)-(t-2)*(9.82*2) \n",
    "        if (h< 0):\n",
    "            h = 0        \n",
    "    return h\n",
    "\n",
    "\n",
    "def fraw(t):\n",
    "    h = 300 - 0.5*9.82*(t)**2\n",
    "    return h  \n",
    "\n",
    "def frawwair(tt):\n",
    "    gny = 9.82 - 3\n",
    "    h = 300 - 0.5*9.82*(t)**2\n",
    "    return h  \n",
    "\n",
    "def sim(steps, kvant):\n",
    "    l = []\n",
    "    lr=[]\n",
    "    for i in range(0,steps):\n",
    "        b = f(i*kvant)\n",
    "        if (b < 0): b=0\n",
    "        l.append (b)\n",
    "        b = fraw(i*kvant)\n",
    "        if (b < 0): b=0\n",
    "        lr.append (b)\n",
    "    return l,lr\n",
    "\n",
    "a,b = sim(simtime*100,0.01)\n",
    "\n",
    "print (len(a))\n",
    "x = arange(0,simtime,0.01)\n",
    "print (len(x))\n",
    "#ax = subplot(111)\n",
    "plot(x, a, linewidth=1)\n",
    "plot(x, b, linewidth=1)\n",
    "show()"
   ]
  },
  {
   "cell_type": "code",
   "execution_count": null,
   "metadata": {},
   "outputs": [],
   "source": [
    "#DOD 1 - 5\n",
    "# order here is oimportant\n",
    "#if pylab is loaded after sympy then problems ...\n",
    " \n",
    "from pylab import *\n",
    "\n",
    "from sympy import Symbol\n",
    "from sympy.solvers import solve, solveset\n",
    "\n",
    "from matplotlib import *\n",
    "\n",
    " \n",
    "simtime = 5\n",
    "simsteps = simtime*100 # 100 pr sec\n",
    "\n",
    "def rawV(t):\n",
    "    return (9.82*t)\n",
    "\n",
    "def airResV(t):\n",
    "    # F(v(t)) = -0.2*v^2(t)\n",
    "    # v(t) = t*(g-F(v(t)))\n",
    "    # 0.2*v2(t) + v(t) - g*t = 0\n",
    "    x = Symbol('x')\n",
    "    y = solve(0.2*t*(x**2)+x-9.82*t ,x)\n",
    "    return (y[len(y)-1])\n",
    " \n",
    "def sim(steps,kvant):\n",
    "    l = []     \n",
    "    lair=[]\n",
    "    for i in range(0,steps):\n",
    "        l.append(rawV(i*kvant))\n",
    "        lair.append(airResV(i*kvant))\n",
    "    return l,lair   \n",
    "\n",
    "print(\"start\")\n",
    "\n",
    "\n",
    "\n",
    "\n",
    "\n",
    "a,b = sim(simsteps,1/(1.0*simsteps))\n",
    " \n",
    "\n",
    "x = arange(0,simtime,simtime/(1.0*simsteps))\n",
    "print (len(x))\n",
    "print (len(a))\n",
    "#ax = subplot(111)\n",
    "plot(x, a, linewidth=1)\n",
    "plot(x, b, linewidth=1)\n",
    "show()\n",
    "print(\"slut\")\n",
    "   "
   ]
  },
  {
   "cell_type": "code",
   "execution_count": 3,
   "metadata": {},
   "outputs": [
    {
     "name": "stdout",
     "output_type": "stream",
     "text": [
      "tid =  [-7.81663587062953, 7.81663587062953]\n",
      "kin energi =  7365.00000000000\n"
     ]
    }
   ],
   "source": [
    "#DO mm1 JDB\n",
    "from sympy import Symbol\n",
    "from sympy.solvers import solve\n",
    " \n",
    "\n",
    "x = Symbol('x')\n",
    "\n",
    "y = solve(0.5*9.82*x**2 -300,x)\n",
    "print(\"tid = \", y)\n",
    " \n",
    "ekin = 0.5*2.5*( (9.82*y[1])**2)\n",
    "print(\"kin energi = \", ekin)"
   ]
  },
  {
   "cell_type": "code",
   "execution_count": 5,
   "metadata": {},
   "outputs": [
    {
     "name": "stdout",
     "output_type": "stream",
     "text": [
      "gogo\n",
      "4.130864858627319\n"
     ]
    }
   ],
   "source": [
    "import time\n",
    "from pylab import *\n",
    "\n",
    "from sympy import Symbol\n",
    "from sympy.solvers import solve \n",
    "\n",
    " \n",
    "\n",
    "t1 = time.time()\n",
    "print(\"gogo\")\n",
    "x = Symbol('x')\n",
    "h = 0\n",
    "for i in arange(0,100,1):\n",
    "    t = 5*i\n",
    "    h = h+1\n",
    "    y = solve(0.2*t*(x**2)+x-9.82 ,x)\n",
    "    #print(y)\n",
    "    \n",
    "t2 = time.time()\n",
    "print(t2-t1)"
   ]
  },
  {
   "cell_type": "code",
   "execution_count": 11,
   "metadata": {},
   "outputs": [
    {
     "name": "stdout",
     "output_type": "stream",
     "text": [
      "5.0431249141693115\n"
     ]
    }
   ],
   "source": [
    "from sympy import *\n",
    "f = Function('f')\n",
    "var('x')\n",
    "\n",
    "t = time.time()\n",
    "for i in range(0,100,1):\n",
    "    dsolve( Eq(Derivative(f(x),x,x)+9*f(x),1),f(x))\n",
    "tt = time.time()\n",
    "print (tt-t)\n"
   ]
  },
  {
   "cell_type": "code",
   "execution_count": null,
   "metadata": {},
   "outputs": [],
   "source": []
  }
 ],
 "metadata": {
  "kernelspec": {
   "display_name": "Python 3",
   "language": "python",
   "name": "python3"
  },
  "language_info": {
   "codemirror_mode": {
    "name": "ipython",
    "version": 3
   },
   "file_extension": ".py",
   "mimetype": "text/x-python",
   "name": "python",
   "nbconvert_exporter": "python",
   "pygments_lexer": "ipython3",
   "version": "3.5.2"
  }
 },
 "nbformat": 4,
 "nbformat_minor": 2
}
